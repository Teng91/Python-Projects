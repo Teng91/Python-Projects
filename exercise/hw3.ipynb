{
 "cells": [
  {
   "cell_type": "markdown",
   "metadata": {
    "id": "ObUHQOIbP73F"
   },
   "source": [
    "# **Q1**"
   ]
  },
  {
   "cell_type": "code",
   "execution_count": 14,
   "metadata": {
    "scrolled": true
   },
   "outputs": [
    {
     "data": {
      "text/plain": [
       "569104491"
      ]
     },
     "execution_count": 14,
     "metadata": {},
     "output_type": "execute_result"
    }
   ],
   "source": [
    "m = 2722458769\n",
    "table = {}\n",
    "def Q1_CountNumbers(n):\n",
    "    if n in table: # 新增table儲存已經計算過的數值，就不用一直重算遞迴項\n",
    "        return table[n]\n",
    "    if n == 1: # Q1(1) = 5\n",
    "        table[n] = 5\n",
    "        return table[n]\n",
    "    if n == 2: # Q1(2) = 5*4 = 20\n",
    "        table[n] = 20\n",
    "        return table[n]\n",
    "    else:\n",
    "        if n % 2 == 1: #odd\n",
    "            ans = (Q1_CountNumbers(n//2+1) * Q1_CountNumbers(n//2)) % m\n",
    "        elif (n//2) % 2 == 1: #非2的次方項的偶數\n",
    "            ans = (Q1_CountNumbers(2) * Q1_CountNumbers(n-2)) % m\n",
    "        else: #2的次方項\n",
    "            ans = (Q1_CountNumbers(n//2) * Q1_CountNumbers(n//2)) % m\n",
    "    table[n] = ans\n",
    "    return ans\n",
    "Q1_CountNumbers(1234567890)"
   ]
  },
  {
   "cell_type": "markdown",
   "metadata": {
    "id": "GrChe75RQEfu"
   },
   "source": [
    "# **Q2**"
   ]
  },
  {
   "cell_type": "code",
   "execution_count": 15,
   "metadata": {
    "id": "i9XNXUbrQDq_"
   },
   "outputs": [
    {
     "data": {
      "text/plain": [
       "{0, 1}"
      ]
     },
     "execution_count": 15,
     "metadata": {},
     "output_type": "execute_result"
    }
   ],
   "source": [
    "def CityTraversal(N, Map, Start):\n",
    "    visit = set() #去過的城市\n",
    "    q = set() #能抵達的城市\n",
    "    q.add(Start) #加入起始城市\n",
    "    while len(q) > 0: #while終止條件:沒有能抵達的城市\n",
    "        city = q.pop()\n",
    "        visit.add(city)\n",
    "\n",
    "        for next_city in range(N):\n",
    "            if Map[city][next_city] and next_city not in visit: #加入能去但沒去過的城市\n",
    "                q.add(next_city)\n",
    "    \n",
    "    return visit\n",
    "CityTraversal(3, [[True, True, False], [False, True, False], [True, True, True]], 0)"
   ]
  },
  {
   "cell_type": "markdown",
   "metadata": {
    "id": "aTX8S3V2QGl0"
   },
   "source": [
    "# **Q3**"
   ]
  },
  {
   "cell_type": "code",
   "execution_count": 16,
   "metadata": {},
   "outputs": [
    {
     "data": {
      "text/plain": [
       "0.6363636363636364"
      ]
     },
     "execution_count": 16,
     "metadata": {},
     "output_type": "execute_result"
    }
   ],
   "source": [
    "import re\n",
    "def SpamDetector(mail_list, target_mail):\n",
    "    spam_words_map = {} #歷史垃圾信件文字(mail_list)\n",
    "    target_words_map = {} #要計算的信件內容(target_mail)\n",
    "    target_word_count = 0 #出現次數(target_mail)\n",
    "\n",
    "    # record words in mail_list \n",
    "    for mail in mail_list:\n",
    "        words = re.split('\\W+', mail.lower()) #轉成只有字母/數字/底線且小寫的字\n",
    "        for word in words:\n",
    "            if len(word) == 0: #判斷是否為空格\n",
    "                continue\n",
    "            if word not in spam_words_map:\n",
    "                spam_words_map[word] = 1\n",
    "            else:\n",
    "                spam_words_map[word] += 1\n",
    "\n",
    "    # record target_mail\n",
    "    target_words = re.split('\\W+', target_mail.lower()) #轉成只有字母/數字/底線且小寫的字\n",
    "    for word in target_words:\n",
    "        if len(word) == 0: #判斷是否為空格\n",
    "            continue\n",
    "        target_word_count += 1 #計算target_mail裡word的總數\n",
    "        if word not in target_words_map:\n",
    "            target_words_map[word] = 1\n",
    "        else:\n",
    "            target_words_map[word] += 1\n",
    "        \n",
    "    common_words = [] #計算target_mail中出現次數和歷史信件中出現總次數\n",
    "    for word in spam_words_map.keys() & target_words_map.keys():\n",
    "        common_words.append(spam_words_map[word] * target_words_map[word])\n",
    "    \n",
    "    #計算SpamScore\n",
    "    spam_score = sum(common_words) / target_word_count\n",
    "    return spam_score\n",
    "            \n",
    "SpamDetector([\"Dear customer,\\n please download the attached file to update your system.\", \"Please click the link to renew your account: http://spamEmail.com\"], \"Due to recent activities on your account, we placed a suspension until you update your information.\\n\\nPlease click the link down below.\")"
   ]
  },
  {
   "cell_type": "code",
   "execution_count": null,
   "metadata": {},
   "outputs": [],
   "source": []
  }
 ],
 "metadata": {
  "colab": {
   "collapsed_sections": [],
   "name": "IMP_HW3.ipynb",
   "provenance": []
  },
  "kernelspec": {
   "display_name": "Python 3",
   "language": "python",
   "name": "python3"
  },
  "language_info": {
   "codemirror_mode": {
    "name": "ipython",
    "version": 3
   },
   "file_extension": ".py",
   "mimetype": "text/x-python",
   "name": "python",
   "nbconvert_exporter": "python",
   "pygments_lexer": "ipython3",
   "version": "3.8.8"
  }
 },
 "nbformat": 4,
 "nbformat_minor": 1
}
